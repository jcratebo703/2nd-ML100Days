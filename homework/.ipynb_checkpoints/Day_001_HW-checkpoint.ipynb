{
 "cells": [
  {
   "cell_type": "markdown",
   "metadata": {},
   "source": [
    "# 作業一\n",
    "\n",
    "data: Heart Disease UCI\n",
    "\n",
    "1. 你選的這組資料為何重要\n",
    "<br> 影響公眾利益\n",
    "2. 資料從何而來\n",
    "<br> kaggle的dataset\n",
    "3. 蒐集而來的資料型態為何\n",
    "<br> csv   \n",
    "4. 這組資料想解決的問題如何評估\n",
    "<br> 分類問題\n",
    "\n",
    "# 作業二\n",
    "想像你經營一個自由載客車隊，你希望能透過數據分析以提升業績，請你思考並描述你如何規劃整體的分析/解決方案：\n",
    "\n",
    "1. 核心問題為何\n",
    "<br> 如何提升尋找客戶之效率\n",
    "2. 資料從何而來\n",
    "<br> 計程車接客地點分佈、時間分佈，資料可派人至交通主要幹道收集\n",
    "3. 蒐集而來的資料型態為何\n",
    "<br> 表格形式，分別有時間區間、地點、接客數量\n",
    "4. 你要回答的問題，其如何評估\n",
    "<br> 回歸分析\n",
    "\n",
    "# 作業三"
   ]
  },
  {
   "cell_type": "code",
   "execution_count": null,
   "metadata": {},
   "outputs": [],
   "source": []
  }
 ],
 "metadata": {
  "kernelspec": {
   "display_name": "Python 3",
   "language": "python",
   "name": "python3"
  },
  "language_info": {
   "codemirror_mode": {
    "name": "ipython",
    "version": 3
   },
   "file_extension": ".py",
   "mimetype": "text/x-python",
   "name": "python",
   "nbconvert_exporter": "python",
   "pygments_lexer": "ipython3",
   "version": "3.6.4"
  }
 },
 "nbformat": 4,
 "nbformat_minor": 2
}
